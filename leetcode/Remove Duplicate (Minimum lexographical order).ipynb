{
 "cells": [
  {
   "cell_type": "markdown",
   "metadata": {},
   "source": [
    "https://leetcode.com/problems/remove-duplicate-letters/\n",
    "\n",
    "# Remove Duplicate Letters\n",
    "Given a string which contains only lowercase letters, remove duplicate letters so that every letter appear once and only once. You must make sure your result is the smallest in lexicographical order among all possible results.\n",
    "\n",
    "## Example:\n",
    "Given \"bcabc\"\n",
    "Return \"abc\"\n",
    "\n",
    "Given \"cbacdcbc\"\n",
    "Return \"acdb\"\n",
    "\n",
    "## Solution from\n",
    "https://leetcode.com/discuss/73777/easy-to-understand-iterative-java-solution"
   ]
  },
  {
   "cell_type": "code",
   "execution_count": 42,
   "metadata": {
    "collapsed": true
   },
   "outputs": [],
   "source": [
    "def remove_dupes(str):\n",
    "    last_appeared = {s: str.rindex(s) for s in str}\n",
    "    end_soonest = end_index = -1\n",
    "    start_index = 0\n",
    "    res = \"\"\n",
    "    \n",
    "    print('the string:', str)\n",
    "    # while still have chars to add\n",
    "    while len(last_appeared) > 0:\n",
    "        # find the character that has soonest last appearance \n",
    "        end_soonest = min(last_appeared, key=last_appeared.get)\n",
    "        \n",
    "        # index of that character is the end of range to look at\n",
    "        end_index = last_appeared[end_soonest]\n",
    "\n",
    "        # get range to look in \n",
    "        substr = str[start_index:end_index+1]\n",
    "        \n",
    "        # chars in substring that haven't been added\n",
    "        chars_in_range = [s for s in substr if s in last_appeared]\n",
    "        \n",
    "        # find lexographically smallest char to add\n",
    "        smallest_char = min(chars_in_range) \n",
    "        \n",
    "        # update result\n",
    "        res += smallest_char\n",
    "        \n",
    "        print(last_appeared)\n",
    "        print('char ending soonest is \"%s\"' % (end_soonest))\n",
    "        print('looking in substring %d, %d: %s' % (start_index, end_index, substr))\n",
    "        print('smallest char:', smallest_char)\n",
    "        \n",
    "        # remove that char\n",
    "        del last_appeared[smallest_char]\n",
    "        \n",
    "        # use that char's position as new starting point\n",
    "        start_index = start_index + substr.index(smallest_char)\n",
    "    \n",
    "        print(res, '\\n')\n",
    "        \n",
    "    return res\n"
   ]
  },
  {
   "cell_type": "code",
   "execution_count": 43,
   "metadata": {
    "collapsed": false
   },
   "outputs": [
    {
     "name": "stdout",
     "output_type": "stream",
     "text": [
      "the string: bcabc\n",
      "{'c': 4, 'a': 2, 'b': 3}\n",
      "char ending soonest is \"a\"\n",
      "looking in substring 0, 2: bca\n",
      "smallest char: a\n",
      "a \n",
      "\n",
      "{'c': 4, 'b': 3}\n",
      "char ending soonest is \"b\"\n",
      "looking in substring 2, 3: ab\n",
      "smallest char: b\n",
      "ab \n",
      "\n",
      "{'c': 4}\n",
      "char ending soonest is \"c\"\n",
      "looking in substring 3, 4: bc\n",
      "smallest char: c\n",
      "abc \n",
      "\n",
      "the string: abacb\n",
      "{'c': 3, 'a': 2, 'b': 4}\n",
      "char ending soonest is \"a\"\n",
      "looking in substring 0, 2: aba\n",
      "smallest char: a\n",
      "a \n",
      "\n",
      "{'c': 3, 'b': 4}\n",
      "char ending soonest is \"c\"\n",
      "looking in substring 0, 3: abac\n",
      "smallest char: b\n",
      "ab \n",
      "\n",
      "{'c': 3}\n",
      "char ending soonest is \"c\"\n",
      "looking in substring 1, 3: bac\n",
      "smallest char: c\n",
      "abc \n",
      "\n",
      "the string: cbacdcbc\n",
      "{'c': 7, 'd': 4, 'a': 2, 'b': 6}\n",
      "char ending soonest is \"a\"\n",
      "looking in substring 0, 2: cba\n",
      "smallest char: a\n",
      "a \n",
      "\n",
      "{'c': 7, 'd': 4, 'b': 6}\n",
      "char ending soonest is \"d\"\n",
      "looking in substring 2, 4: acd\n",
      "smallest char: c\n",
      "ac \n",
      "\n",
      "{'d': 4, 'b': 6}\n",
      "char ending soonest is \"d\"\n",
      "looking in substring 3, 4: cd\n",
      "smallest char: d\n",
      "acd \n",
      "\n",
      "{'b': 6}\n",
      "char ending soonest is \"b\"\n",
      "looking in substring 4, 6: dcb\n",
      "smallest char: b\n",
      "acdb \n",
      "\n",
      "tests pass\n"
     ]
    }
   ],
   "source": [
    "assert remove_dupes('bcabc') == 'abc'\n",
    "assert remove_dupes('abacb') == 'abc'\n",
    "assert remove_dupes('cbacdcbc') == 'acdb'\n",
    "print('tests pass')"
   ]
  },
  {
   "cell_type": "code",
   "execution_count": 14,
   "metadata": {
    "collapsed": true
   },
   "outputs": [],
   "source": [
    "# alternate solution, less efficient \n",
    "def remove_dupes_alt(str):\n",
    "    uniques = []\n",
    "    chars = set(str)\n",
    "    fully_formed = set()\n",
    "    \n",
    "    for char in str:\n",
    "        uniques.append(char)\n",
    "\n",
    "        for i, poss in enumerate(uniques):\n",
    "            # if has characters that are not in it\n",
    "            if not char in poss:\n",
    "                uniques[i] = poss + char\n",
    "                #print(uniques[i])\n",
    "                \n",
    "        # pull out fully formed words\n",
    "        for u in uniques:\n",
    "            if len(u) == len(chars):\n",
    "                uniques.remove(u)\n",
    "                fully_formed.add(u)\n",
    "        \n",
    "    fully_formed = list(fully_formed)\n",
    "    fully_formed.sort()\n",
    "    return fully_formed[0] if len(fully_formed) > 0 else \"\""
   ]
  },
  {
   "cell_type": "code",
   "execution_count": 15,
   "metadata": {
    "collapsed": false
   },
   "outputs": [
    {
     "name": "stdout",
     "output_type": "stream",
     "text": [
      "tests pass\n"
     ]
    }
   ],
   "source": [
    "assert remove_dupes_alt('bcabc') == 'abc'\n",
    "assert remove_dupes_alt('abacb') == 'abc'\n",
    "assert remove_dupes_alt('cbacdcbc') == 'acdb'\n",
    "print('tests pass')"
   ]
  },
  {
   "cell_type": "code",
   "execution_count": null,
   "metadata": {
    "collapsed": true
   },
   "outputs": [],
   "source": []
  }
 ],
 "metadata": {
  "kernelspec": {
   "display_name": "Python 3",
   "language": "python",
   "name": "python3"
  },
  "language_info": {
   "codemirror_mode": {
    "name": "ipython",
    "version": 3
   },
   "file_extension": ".py",
   "mimetype": "text/x-python",
   "name": "python",
   "nbconvert_exporter": "python",
   "pygments_lexer": "ipython3",
   "version": "3.4.3"
  }
 },
 "nbformat": 4,
 "nbformat_minor": 0
}
