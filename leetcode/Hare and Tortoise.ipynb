{
 "cells": [
  {
   "cell_type": "code",
   "execution_count": 12,
   "metadata": {
    "collapsed": false
   },
   "outputs": [],
   "source": [
    "# Linked list cycle detection\n",
    "class ListNode(object):\n",
    "    def __init__(self, x, n=None):\n",
    "        self.val = x\n",
    "        self.next = n\n",
    "    def __repr__(self):\n",
    "        return str(self.val)\n",
    "\n",
    "class Solution(object):\n",
    "    def detectCycle(self, head):\n",
    "        \"\"\"\n",
    "        :type head: ListNode\n",
    "        :rtype: ListNode\n",
    "        \"\"\"\n",
    "        hare = head\n",
    "        tortoise = head\n",
    "        loopsize = 1\n",
    "    \n",
    "        while True:\n",
    "            # print \"hare %s, tortoise %s\" % (hare.val, tortoise.val)\n",
    "            # reached end of list\n",
    "            if hare.next is None:\n",
    "                return None # no loop\n",
    "            \n",
    "            # hare take 2 steps\n",
    "            hare = hare.next.next\n",
    "            \n",
    "            # tortoise take one step\n",
    "            tortoise = tortoise.next \n",
    "            \n",
    "            if hare is tortoise:\n",
    "                break\n",
    "            \n",
    "            # keep track of loopsize\n",
    "            loopsize += 1\n",
    "        \n",
    "        # now that we know loopsize, find where loop starts\n",
    "        if loopsize == 1:\n",
    "            return hare\n",
    "        else:\n",
    "            # set both tortoise and hare at start\n",
    "            tortoise = head\n",
    "            hare = head\n",
    "            \n",
    "            # advance hare loopsize times\n",
    "            for i in range(loopsize):\n",
    "                hare = hare.next \n",
    "            \n",
    "            # advance both until they meet -- will be at beginning of loop\n",
    "            while tortoise is not hare:\n",
    "                hare = hare.next\n",
    "                tortoise = tortoise.next\n",
    "                \n",
    "        \n",
    "            return hare\n",
    "        \n",
    "    def addTwoNumbers(self, l1, l2):\n",
    "        left = l1\n",
    "        right = l2\n",
    "        carry = 0\n",
    "        head = None\n",
    "        curr_digit = head\n",
    "        while left or right:\n",
    "            #print left, right, carry\n",
    "            sum = 0\n",
    "            \n",
    "            r = right.val if right else 0\n",
    "            l = left.val if left else 0\n",
    "            sum = l + r + carry\n",
    "            \n",
    "            carry = 0\n",
    "\n",
    "            if sum >= 10:\n",
    "                sum = sum - 10\n",
    "                carry = 1\n",
    "\n",
    "            if head is None:\n",
    "                head = ListNode(sum)\n",
    "                curr_digit = head\n",
    "            else:\n",
    "                curr_digit.next = ListNode(sum)\n",
    "                curr_digit = curr_digit.next\n",
    "            #print curr_digit\n",
    "\n",
    "            left = left.next if left else None\n",
    "            right = right.next if right else None\n",
    "        if carry == 1:\n",
    "            c = ListNode(carry)\n",
    "            curr_digit.next = c\n",
    "        return head\n",
    "                "
   ]
  },
  {
   "cell_type": "code",
   "execution_count": 13,
   "metadata": {
    "collapsed": false
   },
   "outputs": [],
   "source": [
    "a = ListNode('a', None)\n",
    "b = ListNode('b', a)\n",
    "c = ListNode('c', b)"
   ]
  },
  {
   "cell_type": "code",
   "execution_count": 14,
   "metadata": {
    "collapsed": false
   },
   "outputs": [
    {
     "name": "stdout",
     "output_type": "stream",
     "text": [
      "c\n",
      "b\n",
      "a\n"
     ]
    }
   ],
   "source": [
    "def print_ll(head):\n",
    "    curr = head\n",
    "    while curr:\n",
    "        print(curr.val)\n",
    "        curr = curr.next\n",
    "\n",
    "print_ll(c)"
   ]
  },
  {
   "cell_type": "code",
   "execution_count": 15,
   "metadata": {
    "collapsed": false
   },
   "outputs": [
    {
     "name": "stdout",
     "output_type": "stream",
     "text": [
      "loop starts at: c\n"
     ]
    }
   ],
   "source": [
    "# make list with loop\n",
    "a.next = c\n",
    "\n",
    "print('loop starts at: %s' % Solution().detectCycle(c))"
   ]
  },
  {
   "cell_type": "code",
   "execution_count": 16,
   "metadata": {
    "collapsed": false
   },
   "outputs": [
    {
     "name": "stdout",
     "output_type": "stream",
     "text": [
      "3\n",
      "4\n",
      "2\n",
      "4\n",
      "6\n",
      "5\n"
     ]
    }
   ],
   "source": [
    "three = ListNode(2, None)\n",
    "four = ListNode(4, three)\n",
    "num342 = ListNode(3, four)\n",
    "\n",
    "five = ListNode(5, None)\n",
    "six = ListNode(6, five)\n",
    "num456 = ListNode(4, six)\n",
    "print_ll(num342)\n",
    "print_ll(num456)"
   ]
  },
  {
   "cell_type": "code",
   "execution_count": 17,
   "metadata": {
    "collapsed": false
   },
   "outputs": [
    {
     "ename": "SyntaxError",
     "evalue": "Missing parentheses in call to 'print' (<ipython-input-17-c8fa029de412>, line 1)",
     "output_type": "error",
     "traceback": [
      "\u001b[0;36m  File \u001b[0;32m\"<ipython-input-17-c8fa029de412>\"\u001b[0;36m, line \u001b[0;32m1\u001b[0m\n\u001b[0;31m    print 'sum :'\u001b[0m\n\u001b[0m                ^\u001b[0m\n\u001b[0;31mSyntaxError\u001b[0m\u001b[0;31m:\u001b[0m Missing parentheses in call to 'print'\n"
     ]
    }
   ],
   "source": [
    "print 'sum :'\n",
    "print_ll(Solution().addTwoNumbers(num342, num456))"
   ]
  },
  {
   "cell_type": "code",
   "execution_count": null,
   "metadata": {
    "collapsed": false
   },
   "outputs": [],
   "source": [
    "six = ListNode(6)\n",
    "num46 = ListNode(4, six)\n",
    "print_ll(Solution().addTwoNumbers(num342, num46))"
   ]
  },
  {
   "cell_type": "code",
   "execution_count": null,
   "metadata": {
    "collapsed": false
   },
   "outputs": [],
   "source": [
    "print_ll(Solution().addTwoNumbers(ListNode(5), ListNode(5)))"
   ]
  },
  {
   "cell_type": "code",
   "execution_count": null,
   "metadata": {
    "collapsed": false
   },
   "outputs": [],
   "source": [
    "num99 = ListNode(9, ListNode(9))\n",
    "print_ll(Solution().addTwoNumbers(ListNode(1), num99))"
   ]
  },
  {
   "cell_type": "code",
   "execution_count": null,
   "metadata": {
    "collapsed": true
   },
   "outputs": [],
   "source": []
  },
  {
   "cell_type": "code",
   "execution_count": null,
   "metadata": {
    "collapsed": true
   },
   "outputs": [],
   "source": []
  }
 ],
 "metadata": {
  "kernelspec": {
   "display_name": "Python 3",
   "language": "python",
   "name": "python3"
  },
  "language_info": {
   "codemirror_mode": {
    "name": "ipython",
    "version": 3
   },
   "file_extension": ".py",
   "mimetype": "text/x-python",
   "name": "python",
   "nbconvert_exporter": "python",
   "pygments_lexer": "ipython3",
   "version": "3.4.3"
  }
 },
 "nbformat": 4,
 "nbformat_minor": 0
}
