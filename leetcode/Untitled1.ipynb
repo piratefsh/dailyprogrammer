{
 "cells": [
  {
   "cell_type": "code",
   "execution_count": 7,
   "metadata": {
    "collapsed": false
   },
   "outputs": [
    {
     "name": "stdout",
     "output_type": "stream",
     "text": [
      "{}\n",
      "Impossible\n"
     ]
    }
   ],
   "source": [
    "\n",
    "def balances(n, cache={}):\n",
    "    if n not in cache:\n",
    "        cache[n] = find_balances(n)\n",
    "    return cache[n]\n",
    "\n",
    "def find_balances(n):\n",
    "    if n <= 1:\n",
    "        return {0: 1} if n == 1 else {}\n",
    "    return {dir + bal: (n + dir) / 3\n",
    "            for dir in next_dirs(n)\n",
    "            for bal in balances((n + dir) / 3)}\n",
    "\n",
    "def next_dirs(n):\n",
    "    return (d for d in [-2, -1, 0, 1, 2] if (n + d) % 3 == 0)\n",
    "\n",
    "def show_path(n):\n",
    "    bal = 0\n",
    "    while n > 1:\n",
    "        m = balances(n)[-bal]\n",
    "        dir = m*3 - n\n",
    "        print(n, dir)\n",
    "        bal += dir\n",
    "        n = m\n",
    "    print(1)\n",
    "\n",
    "n = 18446744073709551615\n",
    "print(balances(n))\n",
    "if 0 in balances(n):\n",
    "    show_path(n)\n",
    "else:\n",
    "    print(\"Impossible\")\n"
   ]
  },
  {
   "cell_type": "code",
   "execution_count": null,
   "metadata": {
    "collapsed": true
   },
   "outputs": [],
   "source": []
  }
 ],
 "metadata": {
  "kernelspec": {
   "display_name": "Python 3",
   "language": "python",
   "name": "python3"
  },
  "language_info": {
   "codemirror_mode": {
    "name": "ipython",
    "version": 3
   },
   "file_extension": ".py",
   "mimetype": "text/x-python",
   "name": "python",
   "nbconvert_exporter": "python",
   "pygments_lexer": "ipython3",
   "version": "3.4.3"
  }
 },
 "nbformat": 4,
 "nbformat_minor": 0
}
