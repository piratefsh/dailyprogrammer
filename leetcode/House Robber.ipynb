{
 "cells": [
  {
   "cell_type": "code",
   "execution_count": 18,
   "metadata": {
    "collapsed": false
   },
   "outputs": [
    {
     "name": "stdout",
     "output_type": "stream",
     "text": [
      "2 2 0\n",
      "1 2 2\n",
      "1 3 2\n",
      "2 4 3\n"
     ]
    },
    {
     "data": {
      "text/plain": [
       "4"
      ]
     },
     "execution_count": 18,
     "metadata": {},
     "output_type": "execute_result"
    }
   ],
   "source": [
    "def rob(self, nums):\n",
    "        # keep track of previous robbed and rest\n",
    "        best = 0\n",
    "        prev_best = 0\n",
    "        for n in nums:\n",
    "            tmp = best\n",
    "            best = max(best, prev_best + n)\n",
    "            prev_best = tmp\n",
    "            print(n, best, prev_best)\n",
    "            \n",
    "        return best\n",
    "                     \n",
    "rob(None, [2, 1, 1, 2])"
   ]
  },
  {
   "cell_type": "code",
   "execution_count": null,
   "metadata": {
    "collapsed": true
   },
   "outputs": [],
   "source": [
    "[8,2,8,9,2]\n",
    "8, 0\n",
    "2, 8\n",
    "16, 2\n",
    "11, 16\n",
    "18, \n",
    "\n"
   ]
  }
 ],
 "metadata": {
  "kernelspec": {
   "display_name": "Python 3",
   "language": "python",
   "name": "python3"
  },
  "language_info": {
   "codemirror_mode": {
    "name": "ipython",
    "version": 3
   },
   "file_extension": ".py",
   "mimetype": "text/x-python",
   "name": "python",
   "nbconvert_exporter": "python",
   "pygments_lexer": "ipython3",
   "version": "3.4.3"
  }
 },
 "nbformat": 4,
 "nbformat_minor": 0
}
