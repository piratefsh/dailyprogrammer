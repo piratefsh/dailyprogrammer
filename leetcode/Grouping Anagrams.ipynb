{
 "cells": [
  {
   "cell_type": "markdown",
   "metadata": {},
   "source": [
    "# Group Anagrams \n",
    "\n",
    "[link](https://leetcode.com/problems/anagrams/)\n",
    "\n",
    "Given an array of strings, group anagrams together.\n",
    "\n",
    "For example, given: `[\"eat\", \"tea\", \"tan\", \"ate\", \"nat\", \"bat\"]`, \n",
    "Return:\n",
    "\n",
    "    [\n",
    "      [\"ate\", \"eat\",\"tea\"],\n",
    "      [\"nat\",\"tan\"],\n",
    "      [\"bat\"]\n",
    "    ]\n",
    "    \n",
    "Note:\n",
    "For the return value, each inner list's elements must follow the lexicographic order.\n",
    "All inputs will be in lower-case."
   ]
  },
  {
   "cell_type": "code",
   "execution_count": 16,
   "metadata": {
    "collapsed": true
   },
   "outputs": [],
   "source": [
    "def groupAnagrams(strs):\n",
    "    groups = {}\n",
    "    for str in strs:\n",
    "        chars = tuple(sorted(str))\n",
    "        groups[chars] = groups[chars] + [str] if chars in groups else [str]\n",
    "        \n",
    "    values = [sorted(v) for k, v in groups.items()]\n",
    "    return values"
   ]
  },
  {
   "cell_type": "code",
   "execution_count": 17,
   "metadata": {
    "collapsed": true
   },
   "outputs": [],
   "source": [
    "def test(): \n",
    "    res = groupAnagrams([\"eat\", \"tea\", \"tan\", \"ate\", \"nat\", \"bat\"])\n",
    "    \n",
    "    assert [\"ate\", \"eat\",\"tea\"] in res\n",
    "    assert [\"nat\",\"tan\"] in res\n",
    "    assert [\"bat\"] in res"
   ]
  },
  {
   "cell_type": "code",
   "execution_count": 15,
   "metadata": {
    "collapsed": false
   },
   "outputs": [],
   "source": [
    "test()"
   ]
  }
 ],
 "metadata": {
  "kernelspec": {
   "display_name": "Python 3",
   "language": "python",
   "name": "python3"
  },
  "language_info": {
   "codemirror_mode": {
    "name": "ipython",
    "version": 3
   },
   "file_extension": ".py",
   "mimetype": "text/x-python",
   "name": "python",
   "nbconvert_exporter": "python",
   "pygments_lexer": "ipython3",
   "version": "3.4.3"
  }
 },
 "nbformat": 4,
 "nbformat_minor": 0
}
