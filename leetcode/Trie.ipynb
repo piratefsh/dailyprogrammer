{
 "cells": [
  {
   "cell_type": "code",
   "execution_count": null,
   "metadata": {
    "collapsed": true
   },
   "outputs": [],
   "source": [
    "# https://leetcode.com/problems/implement-trie-prefix-tree/"
   ]
  },
  {
   "cell_type": "code",
   "execution_count": 37,
   "metadata": {
    "collapsed": false
   },
   "outputs": [],
   "source": [
    "class TrieNode(object):\n",
    "    def __init__(self, value=\"\"):\n",
    "        \"\"\"\n",
    "        Initialize your data structure here.\n",
    "        \"\"\"\n",
    "        self.value = value\n",
    "        self.children = []\n",
    "        \n",
    "    def add_child(self, child):\n",
    "        self.children.append(child)\n",
    "    def __repr__(self):\n",
    "        return self.value\n",
    "        \n",
    "class Trie(object):\n",
    "\n",
    "    def __init__(self):\n",
    "        self.root = TrieNode()\n",
    "\n",
    "    def insert(self, word):\n",
    "        \"\"\"\n",
    "        Inserts a word into the trie.\n",
    "        :type word: str\n",
    "        :rtype: void\n",
    "        \"\"\"\n",
    "        curr = self.root\n",
    "        i = 0\n",
    "        while curr and i < len(word):\n",
    "            found_node = False\n",
    "            # if curr_node has child where child.val == curr_char\n",
    "            for child in curr.children:\n",
    "                if child.value == word[i]:\n",
    "                    # set that child as curr_node\n",
    "                    curr = child\n",
    "                    found_node = True\n",
    "            \n",
    "            if not found_node:\n",
    "            # else, if child does not exist, \n",
    "                # add that new child\n",
    "                new_node = TrieNode(word[i])\n",
    "                curr.add_child(new_node)\n",
    "                # set that new child as curr_node\n",
    "                curr = new_node\n",
    "\n",
    "            # move to next char\n",
    "            i += 1\n",
    "        \n",
    "        \n",
    "\n",
    "    def search(self, word):\n",
    "        \"\"\"\n",
    "        Returns if the word is in the trie.\n",
    "        :type word: str\n",
    "        :rtype: bool\n",
    "        \"\"\"\n",
    "        \n",
    "\n",
    "    def startsWith(self, prefix):\n",
    "        \"\"\"\n",
    "        Returns if there is any word in the trie\n",
    "        that starts with the given prefix.\n",
    "        :type prefix: str\n",
    "        :rtype: bool\n",
    "        \"\"\"\n",
    "    \n",
    "    def __repr__(self):\n",
    "        trie = \"\"\n",
    "        children = [self.root]\n",
    "        while len(children) > 0:\n",
    "            curr = children.pop()\n",
    "            trie = trie + curr.value\n",
    "            children = children + curr.children\n",
    "            \n",
    "        return trie\n",
    "            \n",
    "\n",
    "# Your Trie object will be instantiated and called as such:\n",
    "# trie = Trie()\n",
    "# trie.insert(\"somestring\")\n",
    "# trie.search(\"key\")"
   ]
  },
  {
   "cell_type": "code",
   "execution_count": 39,
   "metadata": {
    "collapsed": false
   },
   "outputs": [
    {
     "name": "stdout",
     "output_type": "stream",
     "text": [
      "hellooi\n"
     ]
    }
   ],
   "source": [
    "t = Trie()\n",
    "t.insert('hi')\n",
    "t.insert('ho')\n",
    "t.insert('hello')\n",
    "print(t)"
   ]
  },
  {
   "cell_type": "code",
   "execution_count": null,
   "metadata": {
    "collapsed": true
   },
   "outputs": [],
   "source": [
    "\n"
   ]
  }
 ],
 "metadata": {
  "kernelspec": {
   "display_name": "Python 3",
   "language": "python",
   "name": "python3"
  },
  "language_info": {
   "codemirror_mode": {
    "name": "ipython",
    "version": 3
   },
   "file_extension": ".py",
   "mimetype": "text/x-python",
   "name": "python",
   "nbconvert_exporter": "python",
   "pygments_lexer": "ipython3",
   "version": "3.4.3"
  }
 },
 "nbformat": 4,
 "nbformat_minor": 0
}
