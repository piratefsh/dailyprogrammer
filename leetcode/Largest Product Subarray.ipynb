{
 "cells": [
  {
   "cell_type": "code",
   "execution_count": 4,
   "metadata": {
    "collapsed": true
   },
   "outputs": [],
   "source": [
    "# Find the contiguous subarray within an array (containing at least one number) which has the largest product.\n",
    "\n",
    "# For example, given the array [2,3,-2,4],\n",
    "# the contiguous subarray [2,3] has the largest product = 6.\n",
    "nums = [2,3,-2,4]"
   ]
  },
  {
   "cell_type": "code",
   "execution_count": 31,
   "metadata": {
    "collapsed": false
   },
   "outputs": [],
   "source": [
    "def maxProduct(self, nums):\n",
    "    largest = (0, 0) # largest subarray so far\n",
    "    largest_val = 0\n",
    "    \n",
    "    # for each start point\n",
    "    for start,start_val in enumerate(nums):\n",
    "        print(start, start_val)\n",
    "        # for each end point\n",
    "        for e,end_val in enumerate(nums[start:]):\n",
    "            end = e + start\n",
    "            if end == start:\n",
    "                soln = start_val\n",
    "            else:\n",
    "                # find product for this subarray, including new end val\n",
    "                soln = prev_soln * end_val\n",
    "\n",
    "            sl, el = largest\n",
    "            if soln > largest_val:\n",
    "                largest = (start, end)\n",
    "                largest_val = soln\n",
    "            prev_soln = soln\n",
    "   \n",
    "    s, e = largest\n",
    "    return nums[s:e+1] \n"
   ]
  },
  {
   "cell_type": "code",
   "execution_count": 32,
   "metadata": {
    "collapsed": false
   },
   "outputs": [
    {
     "name": "stdout",
     "output_type": "stream",
     "text": [
      "0 2\n",
      "1 3\n",
      "2 -2\n",
      "3 4\n"
     ]
    },
    {
     "data": {
      "text/plain": [
       "[2, 3]"
      ]
     },
     "execution_count": 32,
     "metadata": {},
     "output_type": "execute_result"
    }
   ],
   "source": [
    "maxProduct(None, nums)"
   ]
  },
  {
   "cell_type": "code",
   "execution_count": 74,
   "metadata": {
    "collapsed": false
   },
   "outputs": [],
   "source": [
    "def mp(self, nums):\n",
    "    small = big = max_p = nums[0]\n",
    "    for i,n in enumerate(nums[1:], 1):\n",
    "    \n",
    "        small, big = min(small*n, big*n, n), max(big*n, small*n, n)\n",
    "        max_p = max(big, max_p)\n",
    "        print(small, big, max_p)\n",
    "    return max_p"
   ]
  },
  {
   "cell_type": "code",
   "execution_count": 75,
   "metadata": {
    "collapsed": false
   },
   "outputs": [
    {
     "name": "stdout",
     "output_type": "stream",
     "text": [
      "0 2 2\n",
      "0 6 6\n",
      "-12 0 6\n",
      "-48 4 6\n"
     ]
    },
    {
     "data": {
      "text/plain": [
       "6"
      ]
     },
     "execution_count": 75,
     "metadata": {},
     "output_type": "execute_result"
    }
   ],
   "source": [
    "mp(None, [0, 2, 3, -2, 4])"
   ]
  },
  {
   "cell_type": "code",
   "execution_count": 115,
   "metadata": {
    "collapsed": false
   },
   "outputs": [],
   "source": [
    "def ms(self, nums):\n",
    "    small = big = max_sum = nums[0]\n",
    "    for i,n in enumerate(nums[1:], 1):\n",
    "        \n",
    "        small, big = min(small+n, big+n, n), max(big+n, small+n, n)\n",
    "        max_sum = max(big, max_sum)\n",
    "        print(\"%2d: small: %2d, big %2d, max: %2d\" % (n, small, big, max_sum))\n",
    "    return max_sum\n",
    "\n",
    "def ms_alt(self, nums):\n",
    "    big = max_sum = nums[0]\n",
    "    start, end = 0, 0\n",
    "    for i,n in enumerate(nums[1:], 1):\n",
    "        curr = big + n\n",
    "        # restart subarray\n",
    "        if n > curr:\n",
    "            start = end = i\n",
    "            big = n\n",
    "            \n",
    "        # add to subarray\n",
    "        else:\n",
    "            big = curr\n",
    "            \n",
    "        if big > max_sum:\n",
    "            max_sum = big\n",
    "            end = i\n",
    "            \n",
    "        print(\"%2d: big %2d, max: %2d\" % (n,big, max_sum))\n",
    "    print(start, end)\n",
    "    return max_sum"
   ]
  },
  {
   "cell_type": "code",
   "execution_count": 107,
   "metadata": {
    "collapsed": false
   },
   "outputs": [
    {
     "name": "stdout",
     "output_type": "stream",
     "text": [
      " 1: small: -1, big  1, max:  1\n",
      "-3: small: -4, big -2, max:  1\n",
      " 4: small:  0, big  4, max:  4\n",
      "-1: small: -1, big  3, max:  4\n",
      " 2: small:  1, big  5, max:  5\n",
      " 1: small:  1, big  6, max:  6\n",
      "-5: small: -5, big  1, max:  6\n",
      " 4: small: -1, big  5, max:  6\n"
     ]
    },
    {
     "data": {
      "text/plain": [
       "6"
      ]
     },
     "execution_count": 107,
     "metadata": {},
     "output_type": "execute_result"
    }
   ],
   "source": [
    "ms(None, [-2,1,-3,4,-1,2,1,-5,4])"
   ]
  },
  {
   "cell_type": "code",
   "execution_count": 116,
   "metadata": {
    "collapsed": false
   },
   "outputs": [
    {
     "name": "stdout",
     "output_type": "stream",
     "text": [
      " 1: big  1, max:  1\n",
      "-3: big -2, max:  1\n",
      " 4: big  4, max:  4\n",
      "-1: big  3, max:  4\n",
      " 2: big  5, max:  5\n",
      " 1: big  6, max:  6\n",
      "-5: big  1, max:  6\n",
      " 4: big  5, max:  6\n",
      "3 6\n"
     ]
    },
    {
     "data": {
      "text/plain": [
       "6"
      ]
     },
     "execution_count": 116,
     "metadata": {},
     "output_type": "execute_result"
    }
   ],
   "source": [
    "ms_alt(None, [-2,1,-3,4,-1,2,1,-5,4])"
   ]
  },
  {
   "cell_type": "code",
   "execution_count": 85,
   "metadata": {
    "collapsed": false
   },
   "outputs": [
    {
     "name": "stdout",
     "output_type": "stream",
     "text": [
      "-5: small: -5, big  5, max: 10\n",
      "-1: small: -6, big  4, max: 10\n"
     ]
    },
    {
     "data": {
      "text/plain": [
       "10"
      ]
     },
     "execution_count": 85,
     "metadata": {},
     "output_type": "execute_result"
    }
   ],
   "source": [
    "ms(None, [10, -5, -1])"
   ]
  },
  {
   "cell_type": "code",
   "execution_count": 88,
   "metadata": {
    "collapsed": false
   },
   "outputs": [
    {
     "name": "stdout",
     "output_type": "stream",
     "text": [
      "-1: small: -6, big -1, max: -1\n",
      "10: small:  4, big 10, max: 10\n",
      "-1: small: -1, big  9, max: 10\n"
     ]
    },
    {
     "data": {
      "text/plain": [
       "10"
      ]
     },
     "execution_count": 88,
     "metadata": {},
     "output_type": "execute_result"
    }
   ],
   "source": [
    "ms(None, [-5, -1, 10, -1])"
   ]
  },
  {
   "cell_type": "code",
   "execution_count": 117,
   "metadata": {
    "collapsed": false
   },
   "outputs": [
    {
     "data": {
      "text/plain": [
       "6"
      ]
     },
     "execution_count": 117,
     "metadata": {},
     "output_type": "execute_result"
    }
   ],
   "source": [
    "import functools\n",
    "functools.reduce(lambda x, e: x+e, [-2,1,-3,4,-1,2,1,-5,4][3:6+1])"
   ]
  },
  {
   "cell_type": "code",
   "execution_count": null,
   "metadata": {
    "collapsed": true
   },
   "outputs": [],
   "source": []
  }
 ],
 "metadata": {
  "kernelspec": {
   "display_name": "Python 3",
   "language": "python",
   "name": "python3"
  },
  "language_info": {
   "codemirror_mode": {
    "name": "ipython",
    "version": 3
   },
   "file_extension": ".py",
   "mimetype": "text/x-python",
   "name": "python",
   "nbconvert_exporter": "python",
   "pygments_lexer": "ipython3",
   "version": "3.4.3"
  }
 },
 "nbformat": 4,
 "nbformat_minor": 0
}
