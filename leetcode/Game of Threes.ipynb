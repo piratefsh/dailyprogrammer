{
 "cells": [
  {
   "cell_type": "markdown",
   "metadata": {},
   "source": [
    "# Game of Threes\n",
    "\n",
    "[link](https://www.reddit.com/r/dailyprogrammer/comments/3r7wxz/20151102_challenge_239_easy_a_game_of_threes/)\n",
    "\n",
    "Back in middle school, I had a peculiar way of dealing with super boring classes. I would take my handy pocket calculator and play a \"Game of Threes\". Here's how you play it:\n",
    "\n",
    "First, you mash in a random large number to start with. Then, repeatedly do the following:\n",
    "\n",
    "* If the number is divisible by 3, divide it by 3.\n",
    "* If it's not, either add 1 or subtract 1 (to make it divisible by 3), then divide it by 3.\n"
   ]
  },
  {
   "cell_type": "code",
   "execution_count": 25,
   "metadata": {
    "collapsed": false
   },
   "outputs": [
    {
     "name": "stdout",
     "output_type": "stream",
     "text": [
      "100 -1\n",
      "33 0\n",
      "11 1\n",
      "4 -1\n",
      "1 0\n",
      "total -1\n"
     ]
    }
   ],
   "source": [
    "def threes(num):\n",
    "    steps = []\n",
    "    while (num > 1):\n",
    "        step = 0\n",
    "        curr = num\n",
    "        # if not divisible by 3, add or minus to make it so\n",
    "        if (num % 3) != 0:\n",
    "            for p in [-1, 1]:\n",
    "                if (num + p) % 3 == 0:\n",
    "                    num = num + p\n",
    "                    step = p\n",
    "        # divide by 3  \n",
    "        num = num//3\n",
    "        \n",
    "        # add number and step\n",
    "        steps.append((curr, step))\n",
    "    steps.append((1, 0))\n",
    "    return steps\n",
    "\n",
    "res = threes(100)\n",
    "\n",
    "total = sum([s for _,s in res])\n",
    "strings = [\" \".join([str(n), str(s)]) for n,s in res]\n",
    "print(\"\\n\".join(strings))\n",
    "print('total', total)"
   ]
  },
  {
   "cell_type": "code",
   "execution_count": 127,
   "metadata": {
    "collapsed": false
   },
   "outputs": [
    {
     "name": "stdout",
     "output_type": "stream",
     "text": [
      "3 0 3 -3 [(100, -1), (33, 0), (11, -2), (3, 0)]\n",
      "4 -1 3 -1 [(100, -1), (33, 0), (11, 1), (4, -1)]\n",
      "2 1 3 3 [(100, -1), (33, 0), (11, 1), (4, 2), (2, 1)]\n",
      "3 0 3 -1 [(100, 2), (34, -1), (11, -2), (3, 0)]\n",
      "4 -1 3 1 [(100, 2), (34, -1), (11, 1), (4, -1)]\n",
      "2 1 3 5 [(100, 2), (34, -1), (11, 1), (4, 2), (2, 1)]\n",
      "4 -1 3 3 [(100, 2), (34, 2), (12, 0), (4, -1)]\n",
      "2 1 3 7 [(100, 2), (34, 2), (12, 0), (4, 2), (2, 1)]\n"
     ]
    },
    {
     "data": {
      "text/plain": [
       "{}"
      ]
     },
     "execution_count": 127,
     "metadata": {},
     "output_type": "execute_result"
    }
   ],
   "source": [
    "cache = {}\n",
    "\n",
    "def three_recur(num, total=0, steps=[]):\n",
    "    #print(num, total)\n",
    "    if num == 1:\n",
    "        return total, steps\n",
    "    \n",
    "    if num in cache:\n",
    "        t, s = cache[num]\n",
    "        return t, s\n",
    "    \n",
    "    for p in [-2, -1, 0, 1, 2]:\n",
    "        new = num + p\n",
    "        if new > 0 and (new % 3) == 0:\n",
    "            res = three_recur(new // 3, total + p, steps + [(num, p)])\n",
    "            \n",
    "            if res:\n",
    "                t, s = res\n",
    "                print(num, p, new, t, s)\n",
    "\n",
    "                if t  == 0:\n",
    "                    return (t , s)\n",
    "            \n",
    "    return False\n",
    "\n",
    "three_recur(100)\n",
    "cache"
   ]
  },
  {
   "cell_type": "code",
   "execution_count": null,
   "metadata": {
    "collapsed": true
   },
   "outputs": [],
   "source": []
  },
  {
   "cell_type": "code",
   "execution_count": null,
   "metadata": {
    "collapsed": true
   },
   "outputs": [],
   "source": []
  }
 ],
 "metadata": {
  "kernelspec": {
   "display_name": "Python 3",
   "language": "python",
   "name": "python3"
  },
  "language_info": {
   "codemirror_mode": {
    "name": "ipython",
    "version": 3
   },
   "file_extension": ".py",
   "mimetype": "text/x-python",
   "name": "python",
   "nbconvert_exporter": "python",
   "pygments_lexer": "ipython3",
   "version": "3.4.3"
  }
 },
 "nbformat": 4,
 "nbformat_minor": 0
}
