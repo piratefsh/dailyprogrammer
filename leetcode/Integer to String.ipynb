{
 "cells": [
  {
   "cell_type": "code",
   "execution_count": 271,
   "metadata": {
    "collapsed": true
   },
   "outputs": [],
   "source": [
    "digits = ['Zero', 'One', 'Two', 'Three', 'Four', 'Five', 'Six', 'Seven',\\\n",
    "             'Eight', 'Nine']\n",
    "teens = ['', 'Eleven', 'Twelve', 'Thirteen', 'Fourteen', 'Fifteen', 'Sixteen',\\\n",
    "             'Seventeen', 'Eighteen', 'Nineteen']\n",
    "tens = ['', 'Ten', 'Twenty', 'Thirty', 'Forty', 'Fifty', 'Sixty', 'Seventy', \\\n",
    "        'Eighty', 'Ninety']\n",
    "zeros = ['', 'Thousand', 'Million', 'Billion']\n",
    "\n",
    "def chunk_it(num):\n",
    "    chunks = []\n",
    "    while num > 0:\n",
    "        chunks.append(int(num % 1000))\n",
    "        num = num//1000\n",
    "    return chunks[::-1]\n",
    "\n",
    "def int_to_str(num):\n",
    "    strnum = str(num)\n",
    "    n = len(strnum)\n",
    "    res = []\n",
    "    # ones\n",
    "    if(n <= 1):\n",
    "        res.append(digits[num])\n",
    "    # tens\n",
    "    elif(n == 2):\n",
    "        # 11-19\n",
    "        if(num > 10 and num < 20):\n",
    "            res.append(teens[int(num%10)])\n",
    "        # 10, 20++\n",
    "        else:\n",
    "            digit = int_to_str(int(num%10))\n",
    "            tens_digit = tens[num//10]\n",
    "            res = res + [tens_digit, digit]\n",
    "    # hundreds\n",
    "    elif (n == 3):\n",
    "        hund, rest = num//100, int(num%100)\n",
    "        res = res + [digits[hund], 'Hundred', int_to_str(rest)]\n",
    "    # find thousands and above\n",
    "    else:\n",
    "        for i, chunk in enumerate(chunk_it(num)[::-1]):\n",
    "            val = int_to_str(chunk)\n",
    "            # if have non-zero value, add it's value and zero term\n",
    "            if(val is not digits[0]):\n",
    "                res = [val, zeros[i]] + res\n",
    "\n",
    "    # remove bad zeros if it's not the only thing\n",
    "    # will only see 'zero' in a single digit instance\n",
    "    if(len(res) > 1 and digits[0] in res):\n",
    "        res.remove(digits[0])\n",
    "\n",
    "    return \" \".join(res).strip()\n",
    "       "
   ]
  },
  {
   "cell_type": "code",
   "execution_count": 272,
   "metadata": {
    "collapsed": false
   },
   "outputs": [],
   "source": [
    "assert int_to_str(1) == 'One'\n",
    "assert int_to_str(11) == 'Eleven'\n",
    "assert int_to_str(18) == 'Eighteen'\n",
    "assert int_to_str(38) == 'Thirty Eight'\n",
    "assert int_to_str(20) == 'Twenty'\n",
    "assert int_to_str(100) == 'One Hundred'"
   ]
  },
  {
   "cell_type": "code",
   "execution_count": 273,
   "metadata": {
    "collapsed": false
   },
   "outputs": [],
   "source": [
    "assert int_to_str(12345) ==\"Twelve Thousand Three Hundred Forty Five\""
   ]
  },
  {
   "cell_type": "code",
   "execution_count": 274,
   "metadata": {
    "collapsed": false
   },
   "outputs": [
    {
     "data": {
      "text/plain": [
       "'Twelve Thousand Three Hundred Forty Five'"
      ]
     },
     "execution_count": 274,
     "metadata": {},
     "output_type": "execute_result"
    }
   ],
   "source": [
    "int_to_str(100)\n",
    "int_to_str(12345)"
   ]
  },
  {
   "cell_type": "code",
   "execution_count": 275,
   "metadata": {
    "collapsed": false,
    "scrolled": true
   },
   "outputs": [],
   "source": [
    "assert int_to_str(1234567) =='One Million Two Hundred Thirty Four Thousand Five Hundred Sixty Seven'"
   ]
  },
  {
   "cell_type": "code",
   "execution_count": 276,
   "metadata": {
    "collapsed": false
   },
   "outputs": [],
   "source": [
    "assert (chunk(12345)) == [12, 345]"
   ]
  },
  {
   "cell_type": "code",
   "execution_count": 277,
   "metadata": {
    "collapsed": false
   },
   "outputs": [],
   "source": [
    "assert int_to_str(1000000)  == 'One Million'"
   ]
  },
  {
   "cell_type": "code",
   "execution_count": 279,
   "metadata": {
    "collapsed": false
   },
   "outputs": [],
   "source": [
    "assert int_to_str(10) == 'Ten'"
   ]
  }
 ],
 "metadata": {
  "kernelspec": {
   "display_name": "Python 3",
   "language": "python",
   "name": "python3"
  },
  "language_info": {
   "codemirror_mode": {
    "name": "ipython",
    "version": 3
   },
   "file_extension": ".py",
   "mimetype": "text/x-python",
   "name": "python",
   "nbconvert_exporter": "python",
   "pygments_lexer": "ipython3",
   "version": "3.4.3"
  }
 },
 "nbformat": 4,
 "nbformat_minor": 0
}
