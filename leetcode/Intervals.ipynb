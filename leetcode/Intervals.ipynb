{
 "cells": [
  {
   "cell_type": "code",
   "execution_count": 1,
   "metadata": {
    "collapsed": true
   },
   "outputs": [],
   "source": [
    "# https://leetcode.com/problems/merge-intervals/\n",
    "\n",
    "# Given a collection of intervals, merge all overlapping intervals.\n",
    "\n",
    "# For example,\n",
    "# Given [1,3],[2,6],[8,10],[15,18],\n",
    "# return [1,6],[8,10],[15,18]."
   ]
  },
  {
   "cell_type": "code",
   "execution_count": 51,
   "metadata": {
    "collapsed": false
   },
   "outputs": [],
   "source": [
    "intervals = [[1,3],[2,6],[8,10],[15,18]]"
   ]
  },
  {
   "cell_type": "code",
   "execution_count": 74,
   "metadata": {
    "collapsed": false
   },
   "outputs": [],
   "source": [
    "from functools import reduce\n",
    "\n",
    "def merge(intervals):\n",
    "    def m(intervals, elem):\n",
    "        if len(intervals) < 1:\n",
    "            return [elem]\n",
    "        s, e = intervals[-1]\n",
    "        es, ee = elem\n",
    "\n",
    "        if es <= e:\n",
    "            intervals[-1][1] = max(ee, e)\n",
    "        else:\n",
    "            intervals.append(elem)\n",
    "        return intervals\n",
    "\n",
    "    intervals.sort(key = lambda a: a[0])\n",
    "    return reduce(m, intervals, [])\n"
   ]
  },
  {
   "cell_type": "code",
   "execution_count": 54,
   "metadata": {
    "collapsed": false
   },
   "outputs": [
    {
     "name": "stdout",
     "output_type": "stream",
     "text": [
      "[[1, 6], [2, 6], [8, 10], [15, 18]]\n",
      "[] [1, 6]\n",
      "[[1, 6]] [2, 6]\n",
      "[[1, 6]] [8, 10]\n",
      "[[1, 6], [8, 10]] [15, 18]\n"
     ]
    },
    {
     "data": {
      "text/plain": [
       "[[1, 6], [8, 10], [15, 18]]"
      ]
     },
     "execution_count": 54,
     "metadata": {},
     "output_type": "execute_result"
    }
   ],
   "source": [
    "#merge([[1,4],[2,3]])\n",
    "print(intervals)\n",
    "\n",
    "merge(intervals)"
   ]
  },
  {
   "cell_type": "code",
   "execution_count": 47,
   "metadata": {
    "collapsed": false
   },
   "outputs": [
    {
     "data": {
      "text/plain": [
       "3"
      ]
     },
     "execution_count": 47,
     "metadata": {},
     "output_type": "execute_result"
    }
   ],
   "source": [
    "[1,2,3][-1]"
   ]
  },
  {
   "cell_type": "code",
   "execution_count": 57,
   "metadata": {
    "collapsed": true
   },
   "outputs": [],
   "source": [
    "# https://leetcode.com/problems/insert-interval/\n",
    "\n",
    "# Given a set of non-overlapping intervals, insert a new interval into the intervals (merge if necessary).\n",
    "# You may assume that the intervals were initially sorted according to their start times.\n",
    "\n",
    "# Example 1:\n",
    "# Given intervals [1,3],[6,9], insert and merge [2,5] in as [1,5],[6,9].\n",
    "\n",
    "# Example 2:\n",
    "# Given [1,2],[3,5],[6,7],[8,10],[12,16], insert and merge [4,9] in as [1,2],[3,10],[12,16].\n",
    "\n",
    "# This is because the new interval [4,9] overlaps with [3,5],[6,7],[8,10].\n"
   ]
  },
  {
   "cell_type": "code",
   "execution_count": 75,
   "metadata": {
    "collapsed": true
   },
   "outputs": [],
   "source": [
    "def insert_merge(intervals, new_interval):\n",
    "    final = []\n",
    "    insert = new_interval\n",
    "    while len(intervals) > 0:\n",
    "        interval = intervals.pop(0) \n",
    "        res = merge([interval, insert])\n",
    "        if len(res) is 2:\n",
    "            final.append(res[0])\n",
    "            insert = res[1]\n",
    "        else:\n",
    "            insert = res[0]\n",
    "    final.append(insert)\n",
    "    return final\n",
    "    \n"
   ]
  },
  {
   "cell_type": "code",
   "execution_count": 77,
   "metadata": {
    "collapsed": false
   },
   "outputs": [
    {
     "data": {
      "text/plain": [
       "[[1, 2], [3, 10], [12, 16]]"
      ]
     },
     "execution_count": 77,
     "metadata": {},
     "output_type": "execute_result"
    }
   ],
   "source": [
    "a = [ [1,2],[3,5],[6,7],[8,10],[12,16]]\n",
    "insert_merge(a, [4,9])"
   ]
  },
  {
   "cell_type": "code",
   "execution_count": 79,
   "metadata": {
    "collapsed": false
   },
   "outputs": [
    {
     "data": {
      "text/plain": [
       "[[0, 5]]"
      ]
     },
     "execution_count": 79,
     "metadata": {},
     "output_type": "execute_result"
    }
   ],
   "source": [
    "insert_merge([[1,2]], [0,5])"
   ]
  },
  {
   "cell_type": "code",
   "execution_count": 81,
   "metadata": {
    "collapsed": false
   },
   "outputs": [
    {
     "data": {
      "text/plain": [
       "[[0, 1], [2, 3]]"
      ]
     },
     "execution_count": 81,
     "metadata": {},
     "output_type": "execute_result"
    }
   ],
   "source": [
    "insert_merge([[0,1]], [2,3])"
   ]
  },
  {
   "cell_type": "code",
   "execution_count": 66,
   "metadata": {
    "collapsed": false
   },
   "outputs": [
    {
     "data": {
      "text/plain": [
       "[2, 3]"
      ]
     },
     "execution_count": 66,
     "metadata": {},
     "output_type": "execute_result"
    }
   ],
   "source": [
    "arr = [1, 2, 3]\n",
    "arr.pop(0)\n",
    "arr"
   ]
  },
  {
   "cell_type": "code",
   "execution_count": null,
   "metadata": {
    "collapsed": true
   },
   "outputs": [],
   "source": []
  }
 ],
 "metadata": {
  "kernelspec": {
   "display_name": "Python 3",
   "language": "python",
   "name": "python3"
  },
  "language_info": {
   "codemirror_mode": {
    "name": "ipython",
    "version": 3
   },
   "file_extension": ".py",
   "mimetype": "text/x-python",
   "name": "python",
   "nbconvert_exporter": "python",
   "pygments_lexer": "ipython3",
   "version": "3.4.3"
  }
 },
 "nbformat": 4,
 "nbformat_minor": 0
}
