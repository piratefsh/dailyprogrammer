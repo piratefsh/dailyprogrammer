{
 "cells": [
  {
   "cell_type": "code",
   "execution_count": 30,
   "metadata": {
    "collapsed": false
   },
   "outputs": [
    {
     "data": {
      "text/plain": [
       "'0b10'"
      ]
     },
     "execution_count": 30,
     "metadata": {},
     "output_type": "execute_result"
    }
   ],
   "source": [
    "nums = [5, 5, 1, 3]\n",
    "\n",
    "def xor(nums):\n",
    "    return reduce(lambda acc, e: acc ^ e, nums)\n",
    "\n",
    "bin(xor(nums))"
   ]
  },
  {
   "cell_type": "code",
   "execution_count": 20,
   "metadata": {
    "collapsed": false
   },
   "outputs": [
    {
     "data": {
      "text/plain": [
       "1"
      ]
     },
     "execution_count": 20,
     "metadata": {},
     "output_type": "execute_result"
    }
   ],
   "source": [
    "2 ^ 3"
   ]
  },
  {
   "cell_type": "code",
   "execution_count": 53,
   "metadata": {
    "collapsed": false
   },
   "outputs": [
    {
     "name": "stdout",
     "output_type": "stream",
     "text": [
      "0b10\n"
     ]
    }
   ],
   "source": [
    "shifted = 1 << 1\n",
    "print bin(shifted)"
   ]
  },
  {
   "cell_type": "code",
   "execution_count": 56,
   "metadata": {
    "collapsed": false
   },
   "outputs": [
    {
     "name": "stdout",
     "output_type": "stream",
     "text": [
      "16\n"
     ]
    }
   ],
   "source": [
    "print shifted << 3"
   ]
  },
  {
   "cell_type": "code",
   "execution_count": 101,
   "metadata": {
    "collapsed": false
   },
   "outputs": [],
   "source": [
    "# find the two numbers in an array that do not have partners \n",
    "# e.g. [1, 2, 1, 3, 2, 5] => [5, 3]\n",
    "def find_singles(nums):\n",
    "    # start with leftmost bit\n",
    "    bitmask = 1\n",
    "    unique = []\n",
    "    while bitmask < 2**33:\n",
    "        # find all numbers with 0 at bit\n",
    "        a = [num for num in nums if num & bitmask == 0]\n",
    "        \n",
    "        # find all numbers with 1 at bit\n",
    "        b = [num for num in nums if num & bitmask != 0]\n",
    "        print a, b\n",
    "        \n",
    "        # if either group has odd number of members (odd out out)\n",
    "        if len(a) % 2 == 1 or len(b) % 2 == 1:\n",
    "            \n",
    "            # find xor of all numbers in each group\n",
    "            # which will give the odd one out\n",
    "            xa = xor(a)\n",
    "            xb = xor(b)\n",
    "            \n",
    "            return [xa, xb]\n",
    "        \n",
    "        # check next bit\n",
    "        bitmask = bitmask << 1\n",
    "\n",
    "    return []"
   ]
  },
  {
   "cell_type": "code",
   "execution_count": 102,
   "metadata": {
    "collapsed": false
   },
   "outputs": [
    {
     "name": "stdout",
     "output_type": "stream",
     "text": [
      "[] [5, 5, 1, 3]\n",
      "[5, 5, 1] [3]\n"
     ]
    },
    {
     "data": {
      "text/plain": [
       "[1, 3]"
      ]
     },
     "execution_count": 102,
     "metadata": {},
     "output_type": "execute_result"
    }
   ],
   "source": [
    "find_singles(nums)"
   ]
  },
  {
   "cell_type": "code",
   "execution_count": 103,
   "metadata": {
    "collapsed": false
   },
   "outputs": [
    {
     "name": "stdout",
     "output_type": "stream",
     "text": [
      "[2, 2] [1, 1, 3, 5]\n",
      "[1, 1, 5] [2, 3, 2]\n"
     ]
    },
    {
     "data": {
      "text/plain": [
       "[5, 3]"
      ]
     },
     "execution_count": 103,
     "metadata": {},
     "output_type": "execute_result"
    }
   ],
   "source": [
    "find_singles([1, 2, 1, 3, 2, 5])"
   ]
  },
  {
   "cell_type": "code",
   "execution_count": 104,
   "metadata": {
    "collapsed": false
   },
   "outputs": [
    {
     "name": "stdout",
     "output_type": "stream",
     "text": [
      "[0] [-1]\n"
     ]
    },
    {
     "data": {
      "text/plain": [
       "[0, -1]"
      ]
     },
     "execution_count": 104,
     "metadata": {},
     "output_type": "execute_result"
    }
   ],
   "source": [
    "find_singles([-1, 0])"
   ]
  },
  {
   "cell_type": "code",
   "execution_count": null,
   "metadata": {
    "collapsed": true
   },
   "outputs": [],
   "source": []
  }
 ],
 "metadata": {
  "kernelspec": {
   "display_name": "Python 3",
   "language": "python",
   "name": "python3"
  },
  "language_info": {
   "codemirror_mode": {
    "name": "ipython",
    "version": 3
   },
   "file_extension": ".py",
   "mimetype": "text/x-python",
   "name": "python",
   "nbconvert_exporter": "python",
   "pygments_lexer": "ipython3",
   "version": "3.4.3"
  }
 },
 "nbformat": 4,
 "nbformat_minor": 0
}
