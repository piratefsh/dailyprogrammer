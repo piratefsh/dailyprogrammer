{
 "cells": [
  {
   "cell_type": "markdown",
   "metadata": {},
   "source": [
    "# Find Longest Palindrome Substring\n",
    "[link](http://www.geeksforgeeks.org/dynamic-programming-set-12-longest-palindromic-subsequence/)\n",
    "\n",
    "With dynamic programming"
   ]
  },
  {
   "cell_type": "code",
   "execution_count": 104,
   "metadata": {
    "collapsed": true
   },
   "outputs": [],
   "source": [
    "def print_table(str, table):\n",
    "    for i, row in enumerate(table):\n",
    "        for j, col in enumerate(row):\n",
    "            print(i, j, str[i:j+1], col)"
   ]
  },
  {
   "cell_type": "code",
   "execution_count": 268,
   "metadata": {
    "collapsed": false
   },
   "outputs": [],
   "source": [
    "def lps(str):\n",
    "    if len(str) < 1: return ((0, 0), 0)\n",
    "    table = [[0] * len(str) for _ in range(len(str))]\n",
    "    for i in range(len(str)):\n",
    "        table[i][i] = 1\n",
    "    \n",
    "    for length in range(2, len(str) + 1):\n",
    "        for start in range(0, len(str) - length + 1):\n",
    "            \n",
    "            end = start + length - 1 \n",
    "            \n",
    "            if str[start] == str[end]:\n",
    "                #print(str[start], str[end], length)\n",
    "                if length == 2:\n",
    "                    table[start][end] = 2\n",
    "                elif table[start + 1][end - 1] > 0: \n",
    "                    table[start][end] = 2 + table[start + 1][end - 1]\n",
    "            else:\n",
    "                table[start][end] = -1\n",
    "            #print(length, start, end, str[start:end+1], table[start][end])\n",
    "    #print_table(str, table)\n",
    "    flattened = [((i, j), l) for i, row in enumerate(table) for j,l in enumerate(row)]\n",
    "    return sorted(flattened, key=lambda x: (x[1], len(str) - abs(x[0][1] - x[0][0])))[-1]"
   ]
  },
  {
   "cell_type": "code",
   "execution_count": 269,
   "metadata": {
    "collapsed": false
   },
   "outputs": [
    {
     "data": {
      "text/plain": [
       "((5, 10), 6)"
      ]
     },
     "execution_count": 269,
     "metadata": {},
     "output_type": "execute_result"
    }
   ],
   "source": [
    "lps('geeksforrof')"
   ]
  },
  {
   "cell_type": "code",
   "execution_count": 271,
   "metadata": {
    "collapsed": false
   },
   "outputs": [],
   "source": [
    "assert lps('aba') == ((0, 2), 3)\n",
    "assert lps('abcba') == ((0, 4), 5)\n",
    "\n",
    "assert lps('aacecaaa') == ((0, 6),7)\n",
    "\n",
    "assert lps('zabcbds') == ((2, 4), 3)"
   ]
  },
  {
   "cell_type": "markdown",
   "metadata": {},
   "source": [
    "# Shortest Palindrome\n",
    "\n",
    "[link](https://leetcode.com/problems/shortest-palindrome/)\n",
    "\n",
    "Given a string S, you are allowed to convert it to a palindrome by adding characters in front of it. Find and return the shortest palindrome you can find by performing this transformation.\n",
    "\n",
    "For example:\n",
    "\n",
    "Given \"aacecaaa\", return \"aaacecaaa\".\n",
    "\n",
    "Given \"abcd\", return \"dcbabcd\"."
   ]
  },
  {
   "cell_type": "code",
   "execution_count": 250,
   "metadata": {
    "collapsed": false
   },
   "outputs": [],
   "source": [
    "def shortest_palindrome(str):\n",
    "    # find longest palindrome\n",
    "    coord, length = lps(str)\n",
    "    start, end = coord\n",
    "    \n",
    "    print(coord, length)\n",
    "    if start == end:\n",
    "        return str[1:][::-1] + str\n",
    "    elif start is 0:\n",
    "        return str[end+1:][::-1] + str[start:]\n",
    "    elif end is len(str) - 1:\n",
    "        return str[0:end+1] + str[0:start][::-1]\n",
    "    else:\n",
    "        # if palindrome is not at ends\n",
    "        return str[::-1] + str\n",
    "        "
   ]
  },
  {
   "cell_type": "code",
   "execution_count": 251,
   "metadata": {
    "collapsed": false
   },
   "outputs": [
    {
     "name": "stdout",
     "output_type": "stream",
     "text": [
      "(0, 6) 7\n",
      "(3, 3) 1\n",
      "(1, 7) 7\n",
      "(1, 7) 7\n"
     ]
    },
    {
     "data": {
      "text/plain": [
       "'aaacecaaa'"
      ]
     },
     "execution_count": 251,
     "metadata": {},
     "output_type": "execute_result"
    }
   ],
   "source": [
    "assert shortest_palindrome('aacecaaa') == 'aaacecaaa'\n",
    "assert shortest_palindrome('abcd') == 'dcbabcd'\n",
    "assert shortest_palindrome('aaacecaa') == 'aaacecaaa'\n",
    "shortest_palindrome('aaacecaa')"
   ]
  },
  {
   "cell_type": "code",
   "execution_count": 252,
   "metadata": {
    "collapsed": false,
    "scrolled": true
   },
   "outputs": [
    {
     "data": {
      "text/plain": [
       "'bcd'"
      ]
     },
     "execution_count": 252,
     "metadata": {},
     "output_type": "execute_result"
    }
   ],
   "source": [
    "'abcd'[1::]"
   ]
  },
  {
   "cell_type": "code",
   "execution_count": 267,
   "metadata": {
    "collapsed": false
   },
   "outputs": [
    {
     "name": "stdout",
     "output_type": "stream",
     "text": [
      "2 0 1 ge -1\n",
      "2 1 2 ee 2\n",
      "2 2 3 ek -1\n",
      "2 3 4 ks -1\n",
      "2 4 5 sf -1\n",
      "2 5 6 fo -1\n",
      "2 6 7 or -1\n",
      "2 7 8 rr 2\n",
      "2 8 9 ro -1\n",
      "2 9 10 of -1\n",
      "3 0 2 gee -1\n",
      "3 1 3 eek -1\n",
      "3 2 4 eks -1\n",
      "3 3 5 ksf -1\n",
      "3 4 6 sfo -1\n",
      "3 5 7 for -1\n",
      "3 6 8 orr -1\n",
      "3 7 9 rro -1\n",
      "3 8 10 rof -1\n",
      "4 0 3 geek -1\n",
      "4 1 4 eeks -1\n",
      "4 2 5 eksf -1\n",
      "4 3 6 ksfo -1\n",
      "4 4 7 sfor -1\n",
      "4 5 8 forr -1\n",
      "4 6 9 orro 4\n",
      "4 7 10 rrof -1\n",
      "5 0 4 geeks -1\n",
      "5 1 5 eeksf -1\n",
      "5 2 6 eksfo -1\n",
      "5 3 7 ksfor -1\n",
      "5 4 8 sforr -1\n",
      "5 5 9 forro -1\n",
      "5 6 10 orrof -1\n",
      "6 0 5 geeksf -1\n",
      "6 1 6 eeksfo -1\n",
      "6 2 7 eksfor -1\n",
      "6 3 8 ksforr -1\n",
      "6 4 9 sforro -1\n",
      "6 5 10 forrof 6\n",
      "7 0 6 geeksfo -1\n",
      "7 1 7 eeksfor -1\n",
      "7 2 8 eksforr -1\n",
      "7 3 9 ksforro -1\n",
      "7 4 10 sforrof -1\n",
      "8 0 7 geeksfor -1\n",
      "8 1 8 eeksforr -1\n",
      "8 2 9 eksforro -1\n",
      "8 3 10 ksforrof -1\n",
      "9 0 8 geeksforr -1\n",
      "9 1 9 eeksforro -1\n",
      "9 2 10 eksforrof -1\n",
      "10 0 9 geeksforro -1\n",
      "10 1 10 eeksforrof -1\n",
      "11 0 10 geeksforrof -1\n",
      "(5, 10) 6\n"
     ]
    },
    {
     "data": {
      "text/plain": [
       "'geeksforrofskeeg'"
      ]
     },
     "execution_count": 267,
     "metadata": {},
     "output_type": "execute_result"
    }
   ],
   "source": [
    "shortest_palindrome('geeksforrof')"
   ]
  },
  {
   "cell_type": "code",
   "execution_count": 253,
   "metadata": {
    "collapsed": false,
    "scrolled": true
   },
   "outputs": [
    {
     "name": "stdout",
     "output_type": "stream",
     "text": [
      "(883, 883) 1\n"
     ]
    },
    {
     "data": {
      "text/plain": [
       "'zyxwvutsrqponmlkjihgfedcbazyxwvutsrqponmlkjihgfedcbazyxwvutsrqponmlkjihgfedcbazyxwvutsrqponmlkjihgfedcbazyxwvutsrqponmlkjihgfedcbazyxwvutsrqponmlkjihgfedcbazyxwvutsrqponmlkjihgfedcbazyxwvutsrqponmlkjihgfedcbazyxwvutsrqponmlkjihgfedcbazyxwvutsrqponmlkjihgfedcbazyxwvutsrqponmlkjihgfedcbazyxwvutsrqponmlkjihgfedcbazyxwvutsrqponmlkjihgfedcbazyxwvutsrqponmlkjihgfedcbazyxwvutsrqponmlkjihgfedcbazyxwvutsrqponmlkjihgfedcbazyxwvutsrqponmlkjihgfedcbazyxwvutsrqponmlkjihgfedcbazyxwvutsrqponmlkjihgfedcbazyxwvutsrqponmlkjihgfedcbazyxwvutsrqponmlkjihgfedcbazyxwvutsrqponmlkjihgfedcbazyxwvutsrqponmlkjihgfedcbazyxwvutsrqponmlkjihgfedcbazyxwvutsrqponmlkjihgfedcbazyxwvutsrqponmlkjihgfedcbazyxwvutsrqponmlkjihgfedcbazyxwvutsrqponmlkjihgfedcbazyxwvutsrqponmlkjihgfedcbazyxwvutsrqponmlkjihgfedcbazyxwvutsrqponmlkjihgfedcbazyxwvutsrqponmlkjihgfedcbazyxwvutsrqponmlkjihgfedcbazyxwvutsrqponmlkjihgfedcbabcdefghijklmnopqrstuvwxyzabcdefghijklmnopqrstuvwxyzabcdefghijklmnopqrstuvwxyzabcdefghijklmnopqrstuvwxyzabcdefghijklmnopqrstuvwxyzabcdefghijklmnopqrstuvwxyzabcdefghijklmnopqrstuvwxyzabcdefghijklmnopqrstuvwxyzabcdefghijklmnopqrstuvwxyzabcdefghijklmnopqrstuvwxyzabcdefghijklmnopqrstuvwxyzabcdefghijklmnopqrstuvwxyzabcdefghijklmnopqrstuvwxyzabcdefghijklmnopqrstuvwxyzabcdefghijklmnopqrstuvwxyzabcdefghijklmnopqrstuvwxyzabcdefghijklmnopqrstuvwxyzabcdefghijklmnopqrstuvwxyzabcdefghijklmnopqrstuvwxyzabcdefghijklmnopqrstuvwxyzabcdefghijklmnopqrstuvwxyzabcdefghijklmnopqrstuvwxyzabcdefghijklmnopqrstuvwxyzabcdefghijklmnopqrstuvwxyzabcdefghijklmnopqrstuvwxyzabcdefghijklmnopqrstuvwxyzabcdefghijklmnopqrstuvwxyzabcdefghijklmnopqrstuvwxyzabcdefghijklmnopqrstuvwxyzabcdefghijklmnopqrstuvwxyzabcdefghijklmnopqrstuvwxyzabcdefghijklmnopqrstuvwxyzabcdefghijklmnopqrstuvwxyzabcdefghijklmnopqrstuvwxyz'"
      ]
     },
     "execution_count": 253,
     "metadata": {},
     "output_type": "execute_result"
    }
   ],
   "source": [
    "shortest_palindrome(\"abcdefghijklmnopqrstuvwxyzabcdefghijklmnopqrstuvwxyzabcdefghijklmnopqrstuvwxyzabcdefghijklmnopqrstuvwxyzabcdefghijklmnopqrstuvwxyzabcdefghijklmnopqrstuvwxyzabcdefghijklmnopqrstuvwxyzabcdefghijklmnopqrstuvwxyzabcdefghijklmnopqrstuvwxyzabcdefghijklmnopqrstuvwxyzabcdefghijklmnopqrstuvwxyzabcdefghijklmnopqrstuvwxyzabcdefghijklmnopqrstuvwxyzabcdefghijklmnopqrstuvwxyzabcdefghijklmnopqrstuvwxyzabcdefghijklmnopqrstuvwxyzabcdefghijklmnopqrstuvwxyzabcdefghijklmnopqrstuvwxyzabcdefghijklmnopqrstuvwxyzabcdefghijklmnopqrstuvwxyzabcdefghijklmnopqrstuvwxyzabcdefghijklmnopqrstuvwxyzabcdefghijklmnopqrstuvwxyzabcdefghijklmnopqrstuvwxyzabcdefghijklmnopqrstuvwxyzabcdefghijklmnopqrstuvwxyzabcdefghijklmnopqrstuvwxyzabcdefghijklmnopqrstuvwxyzabcdefghijklmnopqrstuvwxyzabcdefghijklmnopqrstuvwxyzabcdefghijklmnopqrstuvwxyzabcdefghijklmnopqrstuvwxyzabcdefghijklmnopqrstuvwxyzabcdefghijklmnopqrstuvwxyz\")"
   ]
  },
  {
   "cell_type": "code",
   "execution_count": null,
   "metadata": {
    "collapsed": true
   },
   "outputs": [],
   "source": []
  }
 ],
 "metadata": {
  "kernelspec": {
   "display_name": "Python 3",
   "language": "python",
   "name": "python3"
  },
  "language_info": {
   "codemirror_mode": {
    "name": "ipython",
    "version": 3
   },
   "file_extension": ".py",
   "mimetype": "text/x-python",
   "name": "python",
   "nbconvert_exporter": "python",
   "pygments_lexer": "ipython3",
   "version": "3.4.3"
  }
 },
 "nbformat": 4,
 "nbformat_minor": 0
}
