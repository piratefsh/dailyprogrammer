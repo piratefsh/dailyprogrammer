{
 "cells": [
  {
   "cell_type": "code",
   "execution_count": 4,
   "metadata": {
    "collapsed": true
   },
   "outputs": [],
   "source": [
    "#https://www.reddit.com/r/dailyprogrammer/comments/3x3hqa/20151216_challenge_245_intermediate_ggggggg_gggg/"
   ]
  },
  {
   "cell_type": "code",
   "execution_count": 5,
   "metadata": {
    "collapsed": true
   },
   "outputs": [],
   "source": [
    "import re\n",
    "from queue import PriorityQueue\n",
    "\n",
    "def decodeGg(key, str):\n",
    "    key = genKeyDict(key)\n",
    "    \n",
    "    curr = ''\n",
    "    res = ''\n",
    "    for s in str:\n",
    "        # if is char, add to curr and check it against key\n",
    "        if re.match(r'[a-zA-Z]', s):\n",
    "            curr += s\n",
    "            if curr in key:\n",
    "                res += key[curr]\n",
    "                curr = ''\n",
    "        # else, just add punctuation and move on\n",
    "        else:\n",
    "            res += s\n",
    "    return res\n",
    "\n",
    "class Node:\n",
    "    def __init__(self, val, left=None, right=None):\n",
    "        self.val = val\n",
    "        self.left = left\n",
    "        self.right = right\n",
    "    def __lt__(self, other):\n",
    "        return self.val < other.val\n",
    "    def __repr__(self):\n",
    "        return str(self.val)\n",
    "\n",
    "def encoding_keys(str):\n",
    "    key = dict()\n",
    "    chars = set(str)\n",
    "    frequency = { c : str.count(c) for c in chars if re.match(r'[a-zA-Z]', c)}\n",
    "    \n",
    "    queue = PriorityQueue()\n",
    "    # The simplest construction algorithm uses a priority queue where the node with lowest probability is given highest priority:\n",
    "    \n",
    "    # Create a leaf node for each symbol and add it to the priority queue.\n",
    "    for char, freq in frequency.items():\n",
    "        queue.put((freq, Node(char)))\n",
    "    \n",
    "    # While there is more than one node in the queue:\n",
    "    while(queue.qsize() > 1):\n",
    "        \n",
    "        # Remove the two nodes of highest priority\n",
    "        # (lowest probability) from the queue\n",
    "        f1, n1 = queue.get()\n",
    "        f2, n2 = queue.get()\n",
    "    \n",
    "        # Create a new internal node with these two nodes\n",
    "        # as children and with probability equal to the \n",
    "        # sum of the two nodes' probabilities.\n",
    "        node =  Node(n1.val + n2.val, n1, n2)\n",
    "        \n",
    "    \n",
    "        # Add the new node to the queue.\n",
    "        queue.put((f1+f2, node))\n",
    "    \n",
    "    # The remaining node is the root node and the tree is complete.\n",
    "    _, root = queue.get()\n",
    "    \n",
    "    key = huffman_tree2code(root, 'g', 'G')\n",
    "    \n",
    "    return key\n",
    "\n",
    "def huffman_tree2code(root, zero='0', one='1'):\n",
    "    def bfs(node, result={}, code=''):\n",
    "        #print(node.val, code)\n",
    "        # if is leaf\n",
    "        if node.left is None and node.right is None:\n",
    "            result[node.val] = code\n",
    "            return\n",
    "        \n",
    "        # left node\n",
    "        if node.left:\n",
    "            bfs(node.left, result, code + zero)\n",
    "        \n",
    "        # right node\n",
    "        if node.right:\n",
    "            bfs(node.right, result, code + one)\n",
    "        \n",
    "        return result\n",
    "    return bfs(root)\n",
    "    \n",
    "def genKeyDict(key):\n",
    "    key = key.split()\n",
    "    key = [key[i: i+2] for i in range(0, len(key), 2)]\n",
    "    key = { k[1]: k[0] for k in key}\n",
    "    return key\n",
    "\n",
    "def encode(str):\n",
    "    key = encoding_keys(str)\n",
    "    encoded = ''\n",
    "    for s in str:\n",
    "        if s in key:\n",
    "            encoded += key[s]\n",
    "        else:\n",
    "            encoded += s\n",
    "    str_key = \" \".join([char + ' ' + key[char] for char in sorted(key.keys())])\n",
    "    return str_key, encoded\n",
    "        "
   ]
  },
  {
   "cell_type": "code",
   "execution_count": 6,
   "metadata": {
    "collapsed": true
   },
   "outputs": [],
   "source": [
    "assert decodeGg(\"H GgG d gGg e ggG l GGg o gGG r Ggg w ggg\", \"GgGggGGGgGGggGG, ggggGGGggGGggGg!\") == 'Hello, world!'\n",
    "\n",
    "assert decodeGg(\"a GgG d GggGg e GggGG g GGGgg h GGGgG i GGGGg l GGGGG m ggg o GGg p Gggg r gG y ggG\",\\\n",
    "\"GGGgGGGgGGggGGgGggG /gG/GggGgGgGGGGGgGGGGGggGGggggGGGgGGGgggGGgGggggggGggGGgG!\") \\\n",
    "        == 'hooray /r/dailyprogrammer!'"
   ]
  },
  {
   "cell_type": "code",
   "execution_count": 9,
   "metadata": {
    "collapsed": true
   },
   "outputs": [],
   "source": [
    "msg = \"\"\"\n",
    "Here's the thing. You said a \"jackdaw is a crow.\"\n",
    "Is it in the same family? Yes. No one's arguing that.\n",
    "As someone who is a scientist who studies crows, I am telling you, specifically, in science, no one calls jackdaws crows. If you want to be \"specific\" like you said, then you shouldn't either. They're not the same thing.\n",
    "If you're saying \"crow family\" you're referring to the taxonomic grouping of Corvidae, which includes things from nutcrackers to blue jays to ravens.\n",
    "So your reasoning for calling a jackdaw a crow is because random people \"call the black ones crows?\" Let's get grackles and blackbirds in there, then, too.\n",
    "Also, calling someone a human or an ape? It's not one or the other, that's not how taxonomy works. They're both. A jackdaw is a jackdaw and a member of the crow family. But that's not what you said. You said a jackdaw is a crow, which is not true unless you're okay with calling all members of the crow family crows, which means you'd call blue jays, ravens, and other birds crows, too. Which you said you don't.\n",
    "It's okay to just admit you're wrong, you know?\n",
    "\"\"\"\n",
    "key, encoded = encode(msg)"
   ]
  },
  {
   "cell_type": "code",
   "execution_count": 10,
   "metadata": {
    "collapsed": false
   },
   "outputs": [
    {
     "name": "stdout",
     "output_type": "stream",
     "text": [
      "tests pass\n"
     ]
    }
   ],
   "source": [
    "# sample from /r/dailyprogrammer\n",
    "test_key = \"\"\"\n",
    "A gGgGgGgG B gGgGgGggGg C gGgGgGggGG H GGgGgGgggg I GggGggg L GGgGgGgggG N GGgGgGggGg S GGgGgGggGG T GGgGgGgGg W gGgGgGggg Y gGgGgGGg a GGGG b gGgGgg c gGgg d gGgGG e GGGg f GggGgG g ggggg h gggG i Gggg j GGgGgGG k GGgGgg l GGgGG m ggggG n gGGG o ggG p GggGggG r gGGg s GGgg t GgGg u GgGGG v gGgGgGGG w GgGGg x GGgGgGgGG y GggGG\n",
    "\"\"\"\n",
    "test_encoded = \"\"\"\n",
    "GGgGgGggggGGGggGGgGGGg'GGgg GgGggggGGGGg GgGggggGGggggGGGggggg. gGgGgGGgggGGgGGG GGggGGGGGggggGgGG GGGG \"GGgGgGGGGGGgGggGGgGgggGgGGGGGGGgGGg GgggGGgg GGGG gGgggGGgggGGgGGg.\"\n",
    "GggGgggGGgg GgggGgGg GggggGGG GgGggggGGGGg GGggGGGGggggGGGGg GggGgGGGGGggggGGgggGGgGGGggGG? gGgGgGGgGGGgGGgg. GGgGgGggGgggG ggGgGGGGGGg'GGgg GGGGgGGggggggGgGGGGggggGGGggggg GgGggggGGGGGGgGg.\n",
    "gGgGgGgGGGgg GGggggGggggGGGGgggGgGGGGGGg GgGGggggGggG GgggGGgg GGGG GGgggGggGgggGGGggGGGGgGgGgggGGggGgGg GgGGggggGggG GGggGgGgGgGGGgGgGGGgggGGGgGGgg gGgggGGgggGGgGGgGGgg, GggGggg GGGGggggG GgGgGGGgGGgGGGGgGGGggggGGGggggg GggGGggGGgGGG, GGggGggGggGGGGggGggGgggGggGgGGggggGggGGGGGGgGGGGgGGGggGG, GggggGGG GGgggGggGgggGGGggGGGgGggGGGg, gGGGggG ggGgGGGGGGg gGggGGGGGGgGGGGgGGGGgg GGgGgGGGGGGgGggGGgGgggGgGGGGGGGgGGgGGgg gGgggGGgggGGgGGgGGgg. GggGgggGggGgG GggGGggGGgGGG GgGGgGGGGgGGGGgGg GgGgggG gGgGggGGGg \"GGggGggGggGGGGggGggGgggGggGgGGggggGgg\" GGgGGGgggGGgGggGGGg GggGGggGGgGGG GGggGGGGGggggGgGG, GgGggggGGGGggGGG GggGGggGGgGGG GGgggggGggGGgGGGGGgGGgGgGGgGGG'GgGg GGGgGgggGgGggggGGGGggGGg. GGgGgGgGggggGGGGgGggGG'gGGgGGGg gGGGggGGgGg GgGggggGGGGg GGggGGGGggggGGGGg GgGggggGGggggGGGggggg.\n",
    "GggGgggGggGgG GggGGggGGgGGG'gGGgGGGg GGggGGGGGggGGGggggGGGggggg \"gGgggGGgggGGgGGg GggGgGGGGGggggGGgggGGgGGGggGG\" GggGGggGGgGGG'gGGgGGGg gGGgGGGgGggGgGGGGggGGggGGgGggggGGGggggg GgGgggG GgGggggGGGGg GgGgGGGGGGgGgGgGGggGgGGGggGggggGGggggGgg ggggggGGgggGGgGGGGggGggGGggggGGGggggg ggGGggGgG gGgGgGggGGggGgGGggGgGgGGGGggggGgGGGGGGGGGg, GgGGggggGGggggGgggggG GggggGGGgGggGGgGGGgGGGgGgGGGGGgGGgg GgGggggGGggggGGGgggggGGgg GggGgGgGGgggGggggG gGGGGgGGGGgGggGgggGGgGGGGgGggGGgGggGGGggGGgGGgg GgGgggG gGgGggGGgGGGgGGGGGGg GGgGgGGGGGGGggGGGGgg GgGgggG gGGgGGGGgGgGgGGGGGGggGGGGGgg.\n",
    "GGgGgGggGGggG GggGGggGGgGGGgGGg gGGgGGGgGGGGGGggggGgGGGGggggGGGggggg GggGgGggGgGGg gGggGGGGGGgGGGGgGGGggggGGGggggg GGGG GGgGgGGGGGGgGggGGgGgggGgGGGGGGGgGGg GGGG gGgggGGgggGGgGGg GgggGGgg gGgGggGGGggGggGGGGGgGGGGGggGGGg gGGgGGGGgGGGgGgGGggGggggG GggGggGGGGgggGGggGggGGGgGGGGGg \"gGggGGGGGGgGGGGgGG GgGggggGGGGg gGgGggGGgGGGGGGgGggGGgGgg ggGgGGGGGGgGGgg gGgggGGgggGGgGGgGGgg?\" GGgGgGgggGGGGgGgGg'GGgg gggggGGGgGgGg ggggggGGgGGGGgGggGGgGggGGgGGGGGgGGgg GGGGgGGGgGgGG gGgGggGGgGGGGGGgGggGGgGgggGgGggGggggGGggGgGGGGgg GggggGGG GgGggggGGGGggGGgGGGg, GgGggggGGGGggGGG, GgGgggGggG.\n",
    "gGgGgGgGGGgGGGGggggG, gGggGGGGGGgGGGGgGGGggggGGGggggg GGggggGggggGGGGgggGgGGGGGGg GGGG gggGGgGGGggggGGGGGgGGG ggGgGGg GGGGgGGG GGGGGggGggGGGGg? GggGgggGgGg'GGgg gGGGggGGgGg ggGgGGGGGGg ggGgGGg GgGggggGGGGg ggGGgGggggGGGGggGGg, GgGggggGGGGGGgGg'GGgg gGGGggGGgGg gggGggGGgGGg GgGgGGGGGGgGgGgGGggGgGGGggGggggGGggGG GgGGgggGgGGgGGgGggGGgg. GGgGgGgGggggGGGGgGggGG'gGGgGGGg gGgGggggGGgGggggG. gGgGgGgG GGgGgGGGGGGgGggGGgGgggGgGGGGGGGgGGg GgggGGgg GGGG GGgGgGGGGGGgGggGGgGgggGgGGGGGGGgGGg GGGGgGGGgGgGG GGGG ggggGGGGgggggGgGgGggGGGggGGg ggGGggGgG GgGggggGGGGg gGgggGGgggGGgGGg GggGgGGGGGggggGGgggGGgGGGggGG. gGgGgGggGgGgGGGGgGg GgGggggGGGGGGgGg'GGgg gGGGggGGgGg GgGGggggGGGGGGgGg GggGGggGGgGGG GGggGGGGGggggGgGG. gGgGgGGgggGGgGGG GGggGGGGGggggGgGG GGGG GGgGgGGGGGGgGggGGgGgggGgGGGGGGGgGGg GgggGGgg GGGG gGgggGGgggGGgGGg, GgGGggggGGggggGgggggG GgggGGgg gGGGggGGgGg GgGggGGgGgGGGGGGg GgGGGgGGGGGgGGGGGgGGggGGgg GggGGggGGgGGG'gGGgGGGg ggGGGgGggGGGGGggGG GgGGgGgggGgGggggG gGggGGGGGGgGGGGgGGGggggGGGggggg GGGGGGgGGGGgGG ggggGGGGgggggGgGgGggGGGggGGgGGgg ggGGggGgG GgGggggGGGGg gGgggGGgggGGgGGg GggGgGGGGGggggGGgggGGgGGGggGG gGgggGGgggGGgGGgGGgg, GgGGggggGGggggGgggggG ggggGGGGgGGGGgGGGGGgg GggGGggGGgGGG'gGgGG gGggGGGGGGgGGGGgGG gGgGggGGgGGGgGGGGGGg GGgGgGGGGGGGggGGGGgg, gGGgGGGGgGgGgGGGGGGggGGGGGgg, GGGGgGGGgGgGG ggGGgGggggGGGGggGGg gGgGggGggggGGggGgGGGGgg gGgggGGgggGGgGGgGGgg, GgGgggGggG. gGgGgGggggggGGggggGgggggG GggGGggGGgGGG GGggGGGGGggggGgGG GggGGggGGgGGG gGgGGggGgGGG'GgGg.\n",
    "GggGgggGgGg'GGgg ggGGGgGggGGGGGggGG GgGgggG GGgGgGGGgGGGGGggGgGg GGGGgGgGGggggGGgggGgGg GggGGggGGgGGG'gGGgGGGg GgGGggGGgggGgGGGggggg, GggGGggGGgGGG GGgGgggGGGggGGgGGg?\n",
    "\"\"\"\n",
    "# as efficient as sample?\n",
    "assert len(test) >= len(encoded)\n",
    "decoded = decodeGg(key, encoded)\n",
    "\n",
    "# decoded correctly?\n",
    "assert decoded == msg\n",
    "assert decoded == decodeGg(test_key, test_encoded)\n",
    "print('tests pass')\n"
   ]
  },
  {
   "cell_type": "code",
   "execution_count": null,
   "metadata": {
    "collapsed": true
   },
   "outputs": [],
   "source": []
  }
 ],
 "metadata": {
  "kernelspec": {
   "display_name": "Python 3",
   "language": "python",
   "name": "python3"
  },
  "language_info": {
   "codemirror_mode": {
    "name": "ipython",
    "version": 3
   },
   "file_extension": ".py",
   "mimetype": "text/x-python",
   "name": "python",
   "nbconvert_exporter": "python",
   "pygments_lexer": "ipython3",
   "version": "3.4.3"
  }
 },
 "nbformat": 4,
 "nbformat_minor": 0
}
